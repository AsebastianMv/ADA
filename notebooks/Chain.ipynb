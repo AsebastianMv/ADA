{
 "cells": [
  {
   "cell_type": "markdown",
   "metadata": {},
   "source": [
    "### Se cargan las librerias para trabajar con cadenas, emmbeding y variables locales"
   ]
  },
  {
   "cell_type": "code",
   "execution_count": 2,
   "metadata": {},
   "outputs": [],
   "source": [
    "import os\n",
    "from langchain.embeddings import HuggingFaceEmbeddings\n",
    "from langchain.vectorstores import Chroma\n",
    "from langchain.llms import OpenAI\n",
    "from langchain.chains import RetrievalQA\n",
    "from dotenv import dotenv_values"
   ]
  },
  {
   "cell_type": "markdown",
   "metadata": {},
   "source": [
    "### Se carga el certificado para autenticación SSL, y las variables de entorno donde se carga la API Key de OpenIA"
   ]
  },
  {
   "cell_type": "code",
   "execution_count": 3,
   "metadata": {},
   "outputs": [],
   "source": [
    "#Certificado OpenIA SSL\n",
    "os.environ['REQUESTS_CA_BUNDLE'] = 'C:/Users/armadrid/Documents/LangChain/ROOTBANCOLOMBIACA.crt'\n",
    "#Carga de variables globales\n",
    "ENV = dotenv_values(\".env\")"
   ]
  },
  {
   "cell_type": "markdown",
   "metadata": {},
   "source": [
    "### Se carga el modelo con el que se va a trabajar, se obtienen los datos de la vector store en este caso usamos chroma\n",
    "A través de RetrivalQA podemos comparar la información ingresada por el usuario vs la que tenemos en el vector store"
   ]
  },
  {
   "cell_type": "code",
   "execution_count": 4,
   "metadata": {},
   "outputs": [
    {
     "name": "stderr",
     "output_type": "stream",
     "text": [
      "c:\\Users\\armadrid\\Documents\\LangChain\\.venv\\lib\\site-packages\\tqdm\\auto.py:21: TqdmWarning: IProgress not found. Please update jupyter and ipywidgets. See https://ipywidgets.readthedocs.io/en/stable/user_install.html\n",
      "  from .autonotebook import tqdm as notebook_tqdm\n"
     ]
    }
   ],
   "source": [
    "llm = OpenAI(model_name=\"text-davinci-003\",temperature=0,verbose=True)\n",
    "vectorStore = Chroma(persist_directory=\"../vector_store\",embedding_function=HuggingFaceEmbeddings())\n",
    "chain = RetrievalQA.from_chain_type(\n",
    "      llm=llm,\n",
    "      chain_type=\"stuff\",\n",
    "      retriever=vectorStore.as_retriever()             \n",
    "    )"
   ]
  },
  {
   "cell_type": "markdown",
   "metadata": {},
   "source": [
    "### Se prueba el funcionamiento"
   ]
  },
  {
   "cell_type": "code",
   "execution_count": 5,
   "metadata": {},
   "outputs": [
    {
     "data": {
      "text/plain": [
       "' Abastecimiento Digital Avanzado es una iniciativa generada desde la Dirección Cadena de Abastecimiento, por medio de la Célula Analítica, que pretende centralizar la información de las negociaciones, administradores, contratos, negociadores, materiales, familias, gastos y costos en un solo lugar de cara al uso de los diferentes grupos de interés.'"
      ]
     },
     "execution_count": 5,
     "metadata": {},
     "output_type": "execute_result"
    }
   ],
   "source": [
    "query = \"Que es abastecimiento digital avanzado?\"\n",
    "chain.run(query)"
   ]
  }
 ],
 "metadata": {
  "kernelspec": {
   "display_name": ".venv",
   "language": "python",
   "name": "python3"
  },
  "language_info": {
   "codemirror_mode": {
    "name": "ipython",
    "version": 3
   },
   "file_extension": ".py",
   "mimetype": "text/x-python",
   "name": "python",
   "nbconvert_exporter": "python",
   "pygments_lexer": "ipython3",
   "version": "3.9.12"
  }
 },
 "nbformat": 4,
 "nbformat_minor": 2
}
